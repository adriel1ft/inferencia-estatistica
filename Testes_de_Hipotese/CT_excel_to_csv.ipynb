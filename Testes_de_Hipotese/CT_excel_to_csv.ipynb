{
 "cells": [
  {
   "cell_type": "code",
   "execution_count": null,
   "metadata": {},
   "outputs": [],
   "source": [
    "pip install --upgrade openpyxl"
   ]
  },
  {
   "cell_type": "code",
   "execution_count": null,
   "metadata": {},
   "outputs": [],
   "source": [
    "import pandas as pd"
   ]
  },
  {
   "cell_type": "code",
   "execution_count": null,
   "metadata": {},
   "outputs": [],
   "source": [
    "try:\n",
    "    coeficient_table = pd.read_excel(open('Shapiro-Wilk-Tables.xlsx','rb'),sheet_name='SW Table',header=4,nrows=24)\n",
    "except Exception as e:\n",
    "    print(\"Ocorreu um erro ao ler o arquivo XLSX\",e)"
   ]
  },
  {
   "cell_type": "code",
   "execution_count": null,
   "metadata": {},
   "outputs": [],
   "source": [
    "# Tratamento de valores NaN\n",
    "coeficient_table = coeficient_table.fillna(0)"
   ]
  },
  {
   "cell_type": "code",
   "execution_count": null,
   "metadata": {},
   "outputs": [],
   "source": [
    "coeficient_table.to_csv('Shapiro-Wilk-Tables.csv',index=False)\n",
    "print(\"Arquivo CSV gerado com sucesso!\")"
   ]
  }
 ],
 "metadata": {
  "language_info": {
   "name": "python"
  }
 },
 "nbformat": 4,
 "nbformat_minor": 2
}
