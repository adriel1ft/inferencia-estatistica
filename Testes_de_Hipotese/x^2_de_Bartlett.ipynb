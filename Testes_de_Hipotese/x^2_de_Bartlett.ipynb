{
  "nbformat": 4,
  "nbformat_minor": 0,
  "metadata": {
    "colab": {
      "provenance": []
    },
    "kernelspec": {
      "name": "python3",
      "display_name": "Python 3"
    },
    "language_info": {
      "name": "python"
    }
  },
  "cells": [
    {
      "cell_type": "markdown",
      "source": [
        "#O teste $X^2$ de Bartlett\n",
        "\n"
      ],
      "metadata": {
        "id": "ISQz9HzbAabz"
      }
    },
    {
      "cell_type": "markdown",
      "source": [
        "É necessário garantir que as amostras serão normais e seguirão a qui-quadrada.\n",
        "\n",
        "Além disso, ele só será usado para 3 ou mais grupos."
      ],
      "metadata": {
        "id": "_suH3opQE04A"
      }
    },
    {
      "cell_type": "markdown",
      "source": [
        "\n",
        "Devemos definir a hipótese a ser testada sobre o parâmetro k dessa população, que é chamada de hipótese nula:\n",
        "\n",
        "(as variâncias dos erros são homogêneas)\n",
        "$$H_0 : \\sigma^2_1 = \\sigma^2_2 = \\sigma^2_3 = \\sigma^2_k$$\n",
        "\n",
        "Definiremos também a hipótese alternativa $(H_1)$: existem pelo menos um i e um j tais que:\n",
        "\n",
        "(as variâncias dos erros não são homogêneas)\n",
        "$$H_1 :\\sigma^2_i \\neq \\sigma^2_j $$\n"
      ],
      "metadata": {
        "id": "Vct7FcFMFwlo"
      }
    },
    {
      "cell_type": "markdown",
      "source": [
        "A Bcalc (estatística de Bortlett) é dado por:\n",
        "\n",
        "$$Bcalc = \\frac{q}{c} ~~com~~distribuição~~ X^2_{k-1+\\alpha}$$\n",
        "\n"
      ],
      "metadata": {
        "id": "_cXZTwzkASso"
      }
    },
    {
      "cell_type": "markdown",
      "source": [
        "Regra de Decisão:\n",
        "\n",
        "$Bcalc > X^2_{c},$ rejeitamos $H_{0}$\n",
        "\n",
        "$Bcalc <= X^2_{c},$ aceitamos $H_{0}$\n",
        "\n",
        "Se $p <= \\alpha,$ rejeitamos $H_{0}$"
      ],
      "metadata": {
        "id": "7tqT8iKSAZ0c"
      }
    },
    {
      "cell_type": "markdown",
      "source": [
        "Sendo:\n",
        "\n",
        "$S^2_{i}$ = Variância de cada amostra\n",
        "\n",
        "$n_{i}$ variando para i = 1, ..., k\n",
        "\n",
        "$S^2_{p} = \\frac{\\sum^k_{i=1}(n_{i}-1)S^2_{i}}{N-k}$\n",
        "\n",
        "$N = \\sum^k_{i=1} ni$\n",
        "\n",
        "o fator de correção aplicado a q: $c = 1 + \\frac{1}{3(k-1)}(\\sum^k_{i=1}(\\frac{1}{n_{i}-1}) - \\frac{1}{N-k})$\n",
        "\n",
        "A estatística de Teste: $ q = \\frac{(N - k) log_{e}(S^2_{p}) - \\sum^k_{i=1}(n_{i}-1)ln(S^2_{i})}{c}$\n",
        "\n",
        "$p = $ menor nível de confiança"
      ],
      "metadata": {
        "id": "BYMcY9rlnoLd"
      }
    },
    {
      "cell_type": "code",
      "source": [
        "# @title Bibliotecas\n",
        "import scipy\n",
        "import scipy.stats as stats\n",
        "from scipy.stats import chi2\n",
        "import numpy as np\n",
        "import matplotlib.pyplot as plt\n",
        "import pandas as pd\n",
        "import math"
      ],
      "metadata": {
        "id": "3qfR2Jpn3Z06"
      },
      "execution_count": 2,
      "outputs": []
    },
    {
      "cell_type": "markdown",
      "source": [
        "#Problema dos CRA's"
      ],
      "metadata": {
        "id": "6zjrH8abYgYS"
      }
    },
    {
      "cell_type": "markdown",
      "source": [
        "    Supondo que somos um grupo de pesquisadores e coletamos dados dos três diferentes cursos de computação do Centro de Informática da UFPB.\n",
        "    Queremos saber se a variância entre os CRA dos alunos de cada curso varia significativamente.\n",
        "\n",
        "\n",
        "$H0~(Hipótese~Nula):~A~variância~do~CRA~dos~alunos~é~a~mesma~para~todos~os~três~cursos.$\n",
        "\n",
        "    Isso significa que não há diferença significativa na variabilidade do CRA entre os alunos dos diferentes cursos.\n",
        "\n",
        "\n",
        "$H1~(Hipótese~Alternativa):~Pelo~menos~um~dos~cursos~tem~uma~variância~de~CRA~que~é~diferente~dos~outros.$\n",
        "\n",
        "    Isso significa que há uma diferença significativa na variabilidade do CRA entre os alunos de pelo menos dois cursos."
      ],
      "metadata": {
        "id": "-CCY5AZfYkOg"
      }
    },
    {
      "cell_type": "markdown",
      "source": [
        "##Amostras"
      ],
      "metadata": {
        "id": "RfsFTmb6GGQR"
      }
    },
    {
      "cell_type": "code",
      "source": [
        "#gerando CRAs ficticios para cada curso\n",
        "\n",
        "#num de cursos considerados\n",
        "k = 3\n",
        "#num de alunos de cada curso considerados\n",
        "num_alunos = 500\n",
        "\n",
        "cra = {}\n",
        "for curso, media, desvio_padrao in [('CC', 5, 1), ('CDIA', 7, 1), ('ENG', 6, 1.5)]:\n",
        "    cra[curso] = np.random.normal(loc=media, scale=desvio_padrao, size=num_alunos)\n",
        "    cra[curso] = np.clip(cra[curso], 0, 10)  #limitando os valores ao intervalo [0, 10] por ser sobre o CRA"
      ],
      "metadata": {
        "id": "D_tVSp3FYj54"
      },
      "execution_count": 13,
      "outputs": []
    },
    {
      "cell_type": "code",
      "source": [
        "def plotagem(data, title, row):\n",
        "\n",
        "    #histograma\n",
        "    ax1 = plt.subplot(3, 2, 2*row-1)\n",
        "    ax1.hist(data, bins='auto')\n",
        "    ax1.set_title(f\"Histograma - {title}\")\n",
        "\n",
        "    #s-w para normalidade\n",
        "    stat, p = stats.shapiro(data)\n",
        "\n",
        "    #textos >ao lado< do histograma\n",
        "    ax1.text(1.05, 0.5, f\"Shapiro-Wilk:\\nEstatística de teste: {stat}\\np-value: {p}\", fontsize=10, transform=ax1.transAxes)\n",
        "    if p > 0.05:\n",
        "        ax1.text(1.05, 0.4, \"Segue a distribuição normal (p > 0.05)\", fontsize=10, transform=ax1.transAxes, color='green')\n",
        "    else:\n",
        "        ax1.text(1.05, 0.4, \"Não segue a distribuição normal (p <= 0.05)\", fontsize=10, transform=ax1.transAxes, color='red')\n",
        "\n",
        "#ajustando tamanho do gráfico\n",
        "plt.figure(figsize=(10, 12))\n",
        "\n",
        "#plot\n",
        "#usei o enumerate para organizar os valores da lista de cursos (tupla)\n",
        "for i, curso in enumerate(cra, 1):\n",
        "    plotagem(cra[curso], curso, i)\n",
        "\n",
        "plt.show()"
      ],
      "metadata": {
        "colab": {
          "base_uri": "https://localhost:8080/",
          "height": 1000
        },
        "id": "Y420pl9UdqLM",
        "outputId": "01086112-16a8-4da1-afd0-05ab102957f9"
      },
      "execution_count": 14,
      "outputs": [
        {
          "output_type": "display_data",
          "data": {
            "text/plain": [
              "<Figure size 1000x1200 with 3 Axes>"
            ],
            "image/png": "[encoded data removed]"
          },
          "metadata": {}
        }
      ]
    },
    {
      "cell_type": "markdown",
      "source": [
        "##Bcalc"
      ],
      "metadata": {
        "id": "pkPFrHwQsv6H"
      }
    },
    {
      "cell_type": "code",
      "source": [
        "num_variaveis1 = len(cra['CC'])\n",
        "num_variaveis2 = len(cra['CDIA'])\n",
        "num_variaveis3 = len(cra['ENG'])\n",
        "\n",
        "n_i = num_variaveis1 + num_variaveis2 + num_variaveis3\n",
        "print(\"Numero total de Amostras: \", n_i)\n",
        "\n",
        "media1 = sum(cra['CC'])/num_variaveis1\n",
        "media2 = sum(cra['CDIA'])/num_variaveis2\n",
        "media3 = sum(cra['ENG'])/num_variaveis3\n",
        "\n",
        "#soma do quadrado das diferenças\n",
        "soma_qua_dif1 = sum((x - media1)**2 for x in cra['CC'])\n",
        "soma_qua_dif2 = sum((x - media2)**2 for x in cra['CDIA'])\n",
        "soma_qua_dif3 = sum((x - media3)**2 for x in cra['ENG'])\n",
        "\n",
        "#variancia amostral\n",
        "variancia1 = soma_qua_dif1 / (num_variaveis1-1)\n",
        "variancia2 = soma_qua_dif2 / (num_variaveis2-1)\n",
        "variancia3 = soma_qua_dif3 / (num_variaveis3-1)\n",
        "\n",
        "#log da variancia\n",
        "resultado = np.log(variancia1)\n",
        "resultado2 = np.log(variancia2)\n",
        "resultado3 = np.log(variancia3)\n",
        "\n",
        "#grau de liberdade\n",
        "grau_lib = num_variaveis1-1\n",
        "grau_lib2 = num_variaveis2-1\n",
        "grau_lib3 = num_variaveis3-1\n",
        "\n",
        "#s_p^2\n",
        "s_p2 = grau_lib*variancia1\n",
        "s_p2_2 = grau_lib*variancia2\n",
        "s_p2_3 = grau_lib*variancia3\n",
        "\n",
        "#variancia agrupada\n",
        "var_agrup = (s_p2 + s_p2_2 + s_p2_3)/(n_i - k)\n",
        "\n",
        "#bcalc\n",
        "q = (n_i - k) * np.log(var_agrup) - (len(cra['CC']) - 1) * np.log(variancia1) - (len(cra['CDIA']) - 1) * np.log(variancia2) - (len(cra['ENG']) - 1) * np.log(variancia3)\n",
        "c = 1 + 1/(3*(k-1)) * ((1/(len(cra['CC']) - 1) + 1/(len(cra['CDIA']) - 1) + 1/(len(cra['ENG']) - 1)) - 1/(n_i - k))\n",
        "bcalc = q / c\n",
        "\n",
        "#p-value\n",
        "p = stats.chi2.sf(bcalc, k - 1)\n",
        "\n",
        "print(f\"Estatística Bartlett (Bcalc): {bcalc}, Valor-p: {p}\")\n",
        "\n",
        "#usando alpha como 0.05\n",
        "if p >= 0.05:\n",
        "    print(\"\\nAceitamos H0. A variância do CRA dos alunos é a mesma para todos os três cursos\")\n",
        "else:\n",
        "    print(\"\\nRejeitamos H0. A variância do CRA dos alunos é diferente em pelo menos dois cursos\")"
      ],
      "metadata": {
        "colab": {
          "base_uri": "https://localhost:8080/"
        },
        "id": "qAzQCcDmvDlT",
        "outputId": "a6b59ec6-4928-4f17-9aa2-a8be0e1fcbe2"
      },
      "execution_count": 15,
      "outputs": [
        {
          "output_type": "stream",
          "name": "stdout",
          "text": [
            "Numero total de Amostras:  1500\n",
            "Estatística Bartlett (Bcalc): 121.0308509650686, Valor-p: 5.22979472772144e-27\n",
            "\n",
            "Rejeitamos H0. A variância do CRA dos alunos é diferente em pelo menos dois cursos\n"
          ]
        }
      ]
    },
    {
      "cell_type": "code",
      "source": [
        "data = {\n",
        "    'CC': cra['CC'],\n",
        "    'CDIA': cra['CDIA'],\n",
        "    'ENG': cra['ENG']\n",
        "}\n",
        "\n",
        "df = pd.DataFrame(data)\n",
        "\n",
        "desvio_padrao= df.std()\n",
        "variancias = df.var()\n",
        "tam_amostra = df.count()\n",
        "\n",
        "df.loc['Desvio-padrão'] = desvio_padrao\n",
        "df.loc['Variância'] = variancias\n",
        "df.loc['Tamanho da amostra'] = tam_amostra\n",
        "\n",
        "print(\"\\nTabela de CRA por Cursos:\\n\")\n",
        "print(df)"
      ],
      "metadata": {
        "colab": {
          "base_uri": "https://localhost:8080/"
        },
        "id": "CqHWq2_70_M2",
        "outputId": "be5d666c-30f1-47b2-fca7-9be001efe26f"
      },
      "execution_count": 16,
      "outputs": [
        {
          "output_type": "stream",
          "name": "stdout",
          "text": [
            "\n",
            "Tabela de CRA por Cursos:\n",
            "\n",
            "                            CC        CDIA         ENG\n",
            "0                     4.726339    7.623625    6.082274\n",
            "1                     5.575657    8.819842    5.041765\n",
            "2                     6.045563    5.700054    5.680169\n",
            "3                     4.342202    6.936859    6.336021\n",
            "4                     5.624865    7.692951    8.598046\n",
            "...                        ...         ...         ...\n",
            "498                   5.173200    7.223630    4.923723\n",
            "499                   3.392455    6.366695    5.817007\n",
            "Desvio-padrão         0.945328    0.990910    1.460641\n",
            "Variância             0.893644    0.981902    2.133472\n",
            "Tamanho da amostra  500.000000  500.000000  500.000000\n",
            "\n",
            "[503 rows x 3 columns]\n"
          ]
        }
      ]
    },
    {
      "cell_type": "markdown",
      "source": [
        "##Teste automatico"
      ],
      "metadata": {
        "id": "KptEEBrh0MJk"
      }
    },
    {
      "cell_type": "code",
      "source": [
        "statistic, p_value = stats.bartlett(cra['CC'], cra['CDIA'], cra['ENG'])\n",
        "\n",
        "print(\"Estatística do Teste de Bartlett:\", statistic)\n",
        "print(\"Valor-p (p-value):\", p_value)\n",
        "\n",
        "if p_value <= 0.05:\n",
        "    print(\"H0 foi rejeitada. As variâncias das amostras não são iguais.\")\n",
        "else:\n",
        "    print(\"H0 não foi rejeitada. As variâncias das amostras podem ser consideradas iguais.\")\n"
      ],
      "metadata": {
        "colab": {
          "base_uri": "https://localhost:8080/"
        },
        "id": "EUAnX91SxbIy",
        "outputId": "cc075882-4b5e-468d-f072-07fe62fe33ad"
      },
      "execution_count": 17,
      "outputs": [
        {
          "output_type": "stream",
          "name": "stdout",
          "text": [
            "Estatística do Teste de Bartlett: 121.03085096506848\n",
            "Valor-p (p-value): 5.229794727721742e-27\n",
            "H0 foi rejeitada. As variâncias das amostras não são iguais.\n"
          ]
        }
      ]
    },
    {
      "cell_type": "markdown",
      "source": [
        "##tabela"
      ],
      "metadata": {
        "id": "2ok0BUtx23Ce"
      }
    },
    {
      "cell_type": "code",
      "source": [
        "data = {\n",
        "    'Método': ['automatico', 'feito a mão'],\n",
        "    'Estatística': [statistic, bcalc],\n",
        "    'Valor-p': [p_value, p]\n",
        "}\n",
        "\n",
        "df = pd.DataFrame(data)\n",
        "df"
      ],
      "metadata": {
        "colab": {
          "base_uri": "https://localhost:8080/",
          "height": 125
        },
        "id": "FKeDOmQG2XpZ",
        "outputId": "d45feea5-f88d-4c9e-843f-2dd00e4fdd24"
      },
      "execution_count": 20,
      "outputs": [
        {
          "output_type": "execute_result",
          "data": {
            "text/plain": [
              "        Método  Estatística       Valor-p\n",
              "0   automatico   121.030851  5.229795e-27\n",
              "1  feito a mão   121.030851  5.229795e-27"
            ],
            "text/html": [
              "\n",
              "  <div id=\"df-a0599fd8-fc6d-48cf-bffa-5b34a0143525\" class=\"colab-df-container\">\n",
              "    <div>\n",
              "<style scoped>\n",
              "    .dataframe tbody tr th:only-of-type {\n",
              "        vertical-align: middle;\n",
              "    }\n",
              "\n",
              "    .dataframe tbody tr th {\n",
              "        vertical-align: top;\n",
              "    }\n",
              "\n",
              "    .dataframe thead th {\n",
              "        text-align: right;\n",
              "    }\n",
              "</style>\n",
              "<table border=\"1\" class=\"dataframe\">\n",
              "  <thead>\n",
              "    <tr style=\"text-align: right;\">\n",
              "      <th></th>\n",
              "      <th>Método</th>\n",
              "      <th>Estatística</th>\n",
              "      <th>Valor-p</th>\n",
              "    </tr>\n",
              "  </thead>\n",
              "  <tbody>\n",
              "    <tr>\n",
              "      <th>0</th>\n",
              "      <td>automatico</td>\n",
              "      <td>121.030851</td>\n",
              "      <td>5.229795e-27</td>\n",
              "    </tr>\n",
              "    <tr>\n",
              "      <th>1</th>\n",
              "      <td>feito a mão</td>\n",
              "      <td>121.030851</td>\n",
              "      <td>5.229795e-27</td>\n",
              "    </tr>\n",
              "  </tbody>\n",
              "</table>\n",
              "</div>\n",
              "    <div class=\"colab-df-buttons\">\n",
              "\n",
              "  <div class=\"colab-df-container\">\n",
              "    <button class=\"colab-df-convert\" onclick=\"convertToInteractive('df-a0599fd8-fc6d-48cf-bffa-5b34a0143525')\"\n",
              "            title=\"Convert this dataframe to an interactive table.\"\n",
              "            style=\"display:none;\">\n",
              "\n",
              "  <svg xmlns=\"http://www.w3.org/2000/svg\" height=\"24px\" viewBox=\"0 -960 960 960\">\n",
              "    <path d=\"M120-120v-720h720v720H120Zm60-500h600v-160H180v160Zm220 220h160v-160H400v160Zm0 220h160v-160H400v160ZM180-400h160v-160H180v160Zm440 0h160v-160H620v160ZM180-180h160v-160H180v160Zm440 0h160v-160H620v160Z\"/>\n",
              "  </svg>\n",
              "    </button>\n",
              "\n",
              "  <style>\n",
              "    .colab-df-container {\n",
              "      display:flex;\n",
              "      gap: 12px;\n",
              "    }\n",
              "\n",
              "    .colab-df-convert {\n",
              "      background-color: #E8F0FE;\n",
              "      border: none;\n",
              "      border-radius: 50%;\n",
              "      cursor: pointer;\n",
              "      display: none;\n",
              "      fill: #1967D2;\n",
              "      height: 32px;\n",
              "      padding: 0 0 0 0;\n",
              "      width: 32px;\n",
              "    }\n",
              "\n",
              "    .colab-df-convert:hover {\n",
              "      background-color: #E2EBFA;\n",
              "      box-shadow: 0px 1px 2px rgba(60, 64, 67, 0.3), 0px 1px 3px 1px rgba(60, 64, 67, 0.15);\n",
              "      fill: #174EA6;\n",
              "    }\n",
              "\n",
              "    .colab-df-buttons div {\n",
              "      margin-bottom: 4px;\n",
              "    }\n",
              "\n",
              "    [theme=dark] .colab-df-convert {\n",
              "      background-color: #3B4455;\n",
              "      fill: #D2E3FC;\n",
              "    }\n",
              "\n",
              "    [theme=dark] .colab-df-convert:hover {\n",
              "      background-color: #434B5C;\n",
              "      box-shadow: 0px 1px 3px 1px rgba(0, 0, 0, 0.15);\n",
              "      filter: drop-shadow(0px 1px 2px rgba(0, 0, 0, 0.3));\n",
              "      fill: #FFFFFF;\n",
              "    }\n",
              "  </style>\n",
              "\n",
              "    <script>\n",
              "      const buttonEl =\n",
              "        document.querySelector('#df-a0599fd8-fc6d-48cf-bffa-5b34a0143525 button.colab-df-convert');\n",
              "      buttonEl.style.display =\n",
              "        google.colab.kernel.accessAllowed ? 'block' : 'none';\n",
              "\n",
              "      async function convertToInteractive(key) {\n",
              "        const element = document.querySelector('#df-a0599fd8-fc6d-48cf-bffa-5b34a0143525');\n",
              "        const dataTable =\n",
              "          await google.colab.kernel.invokeFunction('convertToInteractive',\n",
              "                                                    [key], {});\n",
              "        if (!dataTable) return;\n",
              "\n",
              "        const docLinkHtml = 'Like what you see? Visit the ' +\n",
              "          '<a target=\"_blank\" href=https://colab.research.google.com/notebooks/data_table.ipynb>data table notebook</a>'\n",
              "          + ' to learn more about interactive tables.';\n",
              "        element.innerHTML = '';\n",
              "        dataTable['output_type'] = 'display_data';\n",
              "        await google.colab.output.renderOutput(dataTable, element);\n",
              "        const docLink = document.createElement('div');\n",
              "        docLink.innerHTML = docLinkHtml;\n",
              "        element.appendChild(docLink);\n",
              "      }\n",
              "    </script>\n",
              "  </div>\n",
              "\n",
              "\n",
              "<div id=\"df-a3fc2d0f-9b4a-4a51-8503-a5ac265597c5\">\n",
              "  <button class=\"colab-df-quickchart\" onclick=\"quickchart('df-a3fc2d0f-9b4a-4a51-8503-a5ac265597c5')\"\n",
              "            title=\"Suggest charts\"\n",
              "            style=\"display:none;\">\n",
              "\n",
              "<svg xmlns=\"http://www.w3.org/2000/svg\" height=\"24px\"viewBox=\"0 0 24 24\"\n",
              "     width=\"24px\">\n",
              "    <g>\n",
              "        <path d=\"M19 3H5c-1.1 0-2 .9-2 2v14c0 1.1.9 2 2 2h14c1.1 0 2-.9 2-2V5c0-1.1-.9-2-2-2zM9 17H7v-7h2v7zm4 0h-2V7h2v10zm4 0h-2v-4h2v4z\"/>\n",
              "    </g>\n",
              "</svg>\n",
              "  </button>\n",
              "\n",
              "<style>\n",
              "  .colab-df-quickchart {\n",
              "      --bg-color: #E8F0FE;\n",
              "      --fill-color: #1967D2;\n",
              "      --hover-bg-color: #E2EBFA;\n",
              "      --hover-fill-color: #174EA6;\n",
              "      --disabled-fill-color: #AAA;\n",
              "      --disabled-bg-color: #DDD;\n",
              "  }\n",
              "\n",
              "  [theme=dark] .colab-df-quickchart {\n",
              "      --bg-color: #3B4455;\n",
              "      --fill-color: #D2E3FC;\n",
              "      --hover-bg-color: #434B5C;\n",
              "      --hover-fill-color: #FFFFFF;\n",
              "      --disabled-bg-color: #3B4455;\n",
              "      --disabled-fill-color: #666;\n",
              "  }\n",
              "\n",
              "  .colab-df-quickchart {\n",
              "    background-color: var(--bg-color);\n",
              "    border: none;\n",
              "    border-radius: 50%;\n",
              "    cursor: pointer;\n",
              "    display: none;\n",
              "    fill: var(--fill-color);\n",
              "    height: 32px;\n",
              "    padding: 0;\n",
              "    width: 32px;\n",
              "  }\n",
              "\n",
              "  .colab-df-quickchart:hover {\n",
              "    background-color: var(--hover-bg-color);\n",
              "    box-shadow: 0 1px 2px rgba(60, 64, 67, 0.3), 0 1px 3px 1px rgba(60, 64, 67, 0.15);\n",
              "    fill: var(--button-hover-fill-color);\n",
              "  }\n",
              "\n",
              "  .colab-df-quickchart-complete:disabled,\n",
              "  .colab-df-quickchart-complete:disabled:hover {\n",
              "    background-color: var(--disabled-bg-color);\n",
              "    fill: var(--disabled-fill-color);\n",
              "    box-shadow: none;\n",
              "  }\n",
              "\n",
              "  .colab-df-spinner {\n",
              "    border: 2px solid var(--fill-color);\n",
              "    border-color: transparent;\n",
              "    border-bottom-color: var(--fill-color);\n",
              "    animation:\n",
              "      spin 1s steps(1) infinite;\n",
              "  }\n",
              "\n",
              "  @keyframes spin {\n",
              "    0% {\n",
              "      border-color: transparent;\n",
              "      border-bottom-color: var(--fill-color);\n",
              "      border-left-color: var(--fill-color);\n",
              "    }\n",
              "    20% {\n",
              "      border-color: transparent;\n",
              "      border-left-color: var(--fill-color);\n",
              "      border-top-color: var(--fill-color);\n",
              "    }\n",
              "    30% {\n",
              "      border-color: transparent;\n",
              "      border-left-color: var(--fill-color);\n",
              "      border-top-color: var(--fill-color);\n",
              "      border-right-color: var(--fill-color);\n",
              "    }\n",
              "    40% {\n",
              "      border-color: transparent;\n",
              "      border-right-color: var(--fill-color);\n",
              "      border-top-color: var(--fill-color);\n",
              "    }\n",
              "    60% {\n",
              "      border-color: transparent;\n",
              "      border-right-color: var(--fill-color);\n",
              "    }\n",
              "    80% {\n",
              "      border-color: transparent;\n",
              "      border-right-color: var(--fill-color);\n",
              "      border-bottom-color: var(--fill-color);\n",
              "    }\n",
              "    90% {\n",
              "      border-color: transparent;\n",
              "      border-bottom-color: var(--fill-color);\n",
              "    }\n",
              "  }\n",
              "</style>\n",
              "\n",
              "  <script>\n",
              "    async function quickchart(key) {\n",
              "      const quickchartButtonEl =\n",
              "        document.querySelector('#' + key + ' button');\n",
              "      quickchartButtonEl.disabled = true;  // To prevent multiple clicks.\n",
              "      quickchartButtonEl.classList.add('colab-df-spinner');\n",
              "      try {\n",
              "        const charts = await google.colab.kernel.invokeFunction(\n",
              "            'suggestCharts', [key], {});\n",
              "      } catch (error) {\n",
              "        console.error('Error during call to suggestCharts:', error);\n",
              "      }\n",
              "      quickchartButtonEl.classList.remove('colab-df-spinner');\n",
              "      quickchartButtonEl.classList.add('colab-df-quickchart-complete');\n",
              "    }\n",
              "    (() => {\n",
              "      let quickchartButtonEl =\n",
              "        document.querySelector('#df-a3fc2d0f-9b4a-4a51-8503-a5ac265597c5 button');\n",
              "      quickchartButtonEl.style.display =\n",
              "        google.colab.kernel.accessAllowed ? 'block' : 'none';\n",
              "    })();\n",
              "  </script>\n",
              "</div>\n",
              "\n",
              "  <div id=\"id_36a256ce-8b37-4eda-a0e9-8eb1cb9d43f6\">\n",
              "    <style>\n",
              "      .colab-df-generate {\n",
              "        background-color: #E8F0FE;\n",
              "        border: none;\n",
              "        border-radius: 50%;\n",
              "        cursor: pointer;\n",
              "        display: none;\n",
              "        fill: #1967D2;\n",
              "        height: 32px;\n",
              "        padding: 0 0 0 0;\n",
              "        width: 32px;\n",
              "      }\n",
              "\n",
              "      .colab-df-generate:hover {\n",
              "        background-color: #E2EBFA;\n",
              "        box-shadow: 0px 1px 2px rgba(60, 64, 67, 0.3), 0px 1px 3px 1px rgba(60, 64, 67, 0.15);\n",
              "        fill: #174EA6;\n",
              "      }\n",
              "\n",
              "      [theme=dark] .colab-df-generate {\n",
              "        background-color: #3B4455;\n",
              "        fill: #D2E3FC;\n",
              "      }\n",
              "\n",
              "      [theme=dark] .colab-df-generate:hover {\n",
              "        background-color: #434B5C;\n",
              "        box-shadow: 0px 1px 3px 1px rgba(0, 0, 0, 0.15);\n",
              "        filter: drop-shadow(0px 1px 2px rgba(0, 0, 0, 0.3));\n",
              "        fill: #FFFFFF;\n",
              "      }\n",
              "    </style>\n",
              "    <button class=\"colab-df-generate\" onclick=\"generateWithVariable('df')\"\n",
              "            title=\"Generate code using this dataframe.\"\n",
              "            style=\"display:none;\">\n",
              "\n",
              "  <svg xmlns=\"http://www.w3.org/2000/svg\" height=\"24px\"viewBox=\"0 0 24 24\"\n",
              "       width=\"24px\">\n",
              "    <path d=\"M7,19H8.4L18.45,9,17,7.55,7,17.6ZM5,21V16.75L18.45,3.32a2,2,0,0,1,2.83,0l1.4,1.43a1.91,1.91,0,0,1,.58,1.4,1.91,1.91,0,0,1-.58,1.4L9.25,21ZM18.45,9,17,7.55Zm-12,3A5.31,5.31,0,0,0,4.9,8.1,5.31,5.31,0,0,0,1,6.5,5.31,5.31,0,0,0,4.9,4.9,5.31,5.31,0,0,0,6.5,1,5.31,5.31,0,0,0,8.1,4.9,5.31,5.31,0,0,0,12,6.5,5.46,5.46,0,0,0,6.5,12Z\"/>\n",
              "  </svg>\n",
              "    </button>\n",
              "    <script>\n",
              "      (() => {\n",
              "      const buttonEl =\n",
              "        document.querySelector('#id_36a256ce-8b37-4eda-a0e9-8eb1cb9d43f6 button.colab-df-generate');\n",
              "      buttonEl.style.display =\n",
              "        google.colab.kernel.accessAllowed ? 'block' : 'none';\n",
              "\n",
              "      buttonEl.onclick = () => {\n",
              "        google.colab.notebook.generateWithVariable('df');\n",
              "      }\n",
              "      })();\n",
              "    </script>\n",
              "  </div>\n",
              "\n",
              "    </div>\n",
              "  </div>\n"
            ],
            "application/vnd.google.colaboratory.intrinsic+json": {
              "type": "dataframe",
              "variable_name": "df",
              "summary": "{\n  \"name\": \"df\",\n  \"rows\": 2,\n  \"fields\": [\n    {\n      \"column\": \"M\\u00e9todo\",\n      \"properties\": {\n        \"dtype\": \"string\",\n        \"num_unique_values\": 2,\n        \"samples\": [\n          \"feito a m\\u00e3o\",\n          \"automatico\"\n        ],\n        \"semantic_type\": \"\",\n        \"description\": \"\"\n      }\n    },\n    {\n      \"column\": \"Estat\\u00edstica\",\n      \"properties\": {\n        \"dtype\": \"number\",\n        \"std\": 8.038873388460929e-14,\n        \"min\": 121.03085096506848,\n        \"max\": 121.0308509650686,\n        \"num_unique_values\": 2,\n        \"samples\": [\n          121.0308509650686,\n          121.03085096506848\n        ],\n        \"semantic_type\": \"\",\n        \"description\": \"\"\n      }\n    },\n    {\n      \"column\": \"Valor-p\",\n      \"properties\": {\n        \"dtype\": \"number\",\n        \"std\": 2.135841054798428e-40,\n        \"min\": 5.22979472772144e-27,\n        \"max\": 5.229794727721742e-27,\n        \"num_unique_values\": 2,\n        \"samples\": [\n          5.22979472772144e-27,\n          5.229794727721742e-27\n        ],\n        \"semantic_type\": \"\",\n        \"description\": \"\"\n      }\n    }\n  ]\n}"
            }
          },
          "metadata": {},
          "execution_count": 20
        }
      ]
    }
  ]
}