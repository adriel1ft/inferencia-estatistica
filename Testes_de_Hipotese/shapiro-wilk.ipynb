{
 "cells": [
  {
   "cell_type": "markdown",
   "metadata": {},
   "source": [
    "# Teste de Shapiro-Wilk"
   ]
  },
  {
   "cell_type": "markdown",
   "metadata": {},
   "source": [
    "O teste de Shapiro-Wilk considera as seguintes hipóteses"
   ]
  },
  {
   "cell_type": "markdown",
   "metadata": {},
   "source": [
    "## Importação de Bibliotecas"
   ]
  },
  {
   "cell_type": "code",
   "execution_count": null,
   "metadata": {},
   "outputs": [],
   "source": [
    "pip install --upgrade openpyxl"
   ]
  },
  {
   "cell_type": "code",
   "execution_count": 2,
   "metadata": {},
   "outputs": [
    {
     "name": "stderr",
     "output_type": "stream",
     "text": [
      "c:\\Users\\dorie\\anaconda3\\lib\\site-packages\\pandas\\core\\computation\\expressions.py:21: UserWarning: Pandas requires version '2.8.4' or newer of 'numexpr' (version '2.8.1' currently installed).\n",
      "  from pandas.core.computation.check import NUMEXPR_INSTALLED\n",
      "c:\\Users\\dorie\\anaconda3\\lib\\site-packages\\pandas\\core\\arrays\\masked.py:60: UserWarning: Pandas requires version '1.3.6' or newer of 'bottleneck' (version '1.3.4' currently installed).\n",
      "  from pandas.core import (\n",
      "c:\\Users\\dorie\\anaconda3\\lib\\site-packages\\scipy\\__init__.py:146: UserWarning: A NumPy version >=1.16.5 and <1.23.0 is required for this version of SciPy (detected version 1.26.4\n",
      "  warnings.warn(f\"A NumPy version >={np_minversion} and <{np_maxversion}\"\n"
     ]
    }
   ],
   "source": [
    "import pandas as pd\n",
    "import numpy as np\n",
    "import random\n",
    "import statistics\n",
    "from scipy.stats import norm\n",
    "import matplotlib.pyplot as plt\n",
    "import seaborn as sns"
   ]
  },
  {
   "cell_type": "markdown",
   "metadata": {},
   "source": [
    "## Amostragem"
   ]
  },
  {
   "cell_type": "markdown",
   "metadata": {},
   "source": [
    "*Escolha das amostras*\n",
    "\n",
    "Distribuição Binomial\n",
    "\n",
    "Distribuição Normal\n",
    "\n",
    "Distribuição Poisson\n",
    "\n",
    "Distribuição Lognormal\n",
    "\n",
    "Amostra aleatória (sem especificação de distribuição)"
   ]
  },
  {
   "cell_type": "code",
   "execution_count": 61,
   "metadata": {},
   "outputs": [],
   "source": [
    "# Definir a semente para garantir a reprodutibilidade\n",
    "seeds = list(range(10))\n",
    "numeros = list(range(7,19))\n",
    "\n",
    "size_amostra = 10\n",
    "\n",
    "# Listas para armazenar as amostras geradas\n",
    "amostras_aleatorias = [] #amostra aleatória simples\n",
    "amostras_lognormal = []\n",
    "amostras_binomial = []\n",
    "amostras_poisson = []\n",
    "amostras_normal = []\n",
    "\n",
    "# Gerar as amostras com seeds diferentes\n",
    "for seed in seeds:\n",
    "    random_state = np.random.RandomState(seed)\n",
    "    amostra_aleatoria = random_state.choice(numeros, size_amostra)  # Amostra aleatória de 10 números\n",
    "    amostra_lognormal = random_state.lognormal(25, 2, size_amostra)  # Distribuição log-normal com média 0 e desvio padrão 1\n",
    "    amostra_binomial = random_state.binomial(10, 0.5, size_amostra)  # Distribuição binomial com 10 tentativas e probabilidade de sucesso 0.5\n",
    "    amostra_poisson = random_state.poisson(2, size_amostra)  # Distribuição de Poisson com lambda = 2\n",
    "    amostra_normal = random_state.normal(6, 1.5, size_amostra)  # Distribuição normal \n",
    "    \n",
    "    amostras_aleatorias.append(amostra_aleatoria)\n",
    "    amostras_lognormal.append(amostra_lognormal)\n",
    "    amostras_binomial.append(amostra_binomial)\n",
    "    amostras_poisson.append(amostra_poisson)\n",
    "    amostras_normal.append(amostra_normal)\n",
    "\n",
    "\n"
   ]
  },
  {
   "cell_type": "code",
   "execution_count": 169,
   "metadata": {},
   "outputs": [],
   "source": [
    "def transforma_lista_em_dataframe(amostras):\n",
    "    df = pd.DataFrame(amostras)\n",
    "    df.columns = ['X_i']\n",
    "    df = df.sort_values(by='X_i').reset_index(drop=True)\n",
    "    return df\n",
    "\n",
    "df_aleatorias = transforma_lista_em_dataframe(amostras_aleatorias[0])"
   ]
  },
  {
   "cell_type": "code",
   "execution_count": 171,
   "metadata": {},
   "outputs": [
    {
     "data": {
      "text/html": [
       "<div>\n",
       "<style scoped>\n",
       "    .dataframe tbody tr th:only-of-type {\n",
       "        vertical-align: middle;\n",
       "    }\n",
       "\n",
       "    .dataframe tbody tr th {\n",
       "        vertical-align: top;\n",
       "    }\n",
       "\n",
       "    .dataframe thead th {\n",
       "        text-align: right;\n",
       "    }\n",
       "</style>\n",
       "<table border=\"1\" class=\"dataframe\">\n",
       "  <thead>\n",
       "    <tr style=\"text-align: right;\">\n",
       "      <th></th>\n",
       "      <th>X_i</th>\n",
       "    </tr>\n",
       "  </thead>\n",
       "  <tbody>\n",
       "    <tr>\n",
       "      <th>0</th>\n",
       "      <td>7</td>\n",
       "    </tr>\n",
       "    <tr>\n",
       "      <th>1</th>\n",
       "      <td>9</td>\n",
       "    </tr>\n",
       "    <tr>\n",
       "      <th>2</th>\n",
       "      <td>10</td>\n",
       "    </tr>\n",
       "    <tr>\n",
       "      <th>3</th>\n",
       "      <td>10</td>\n",
       "    </tr>\n",
       "    <tr>\n",
       "      <th>4</th>\n",
       "      <td>10</td>\n",
       "    </tr>\n",
       "    <tr>\n",
       "      <th>5</th>\n",
       "      <td>12</td>\n",
       "    </tr>\n",
       "    <tr>\n",
       "      <th>6</th>\n",
       "      <td>12</td>\n",
       "    </tr>\n",
       "    <tr>\n",
       "      <th>7</th>\n",
       "      <td>14</td>\n",
       "    </tr>\n",
       "    <tr>\n",
       "      <th>8</th>\n",
       "      <td>16</td>\n",
       "    </tr>\n",
       "    <tr>\n",
       "      <th>9</th>\n",
       "      <td>18</td>\n",
       "    </tr>\n",
       "  </tbody>\n",
       "</table>\n",
       "</div>"
      ],
      "text/plain": [
       "   X_i\n",
       "0    7\n",
       "1    9\n",
       "2   10\n",
       "3   10\n",
       "4   10\n",
       "5   12\n",
       "6   12\n",
       "7   14\n",
       "8   16\n",
       "9   18"
      ]
     },
     "execution_count": 171,
     "metadata": {},
     "output_type": "execute_result"
    }
   ],
   "source": [
    "df_aleatorias"
   ]
  },
  {
   "cell_type": "markdown",
   "metadata": {},
   "source": [
    "## Calculando Dcalc"
   ]
  },
  {
   "cell_type": "code",
   "execution_count": 17,
   "metadata": {},
   "outputs": [],
   "source": [
    "try:\n",
    "    coeficient_table = pd.read_excel(open('Shapiro-Wilk-Tables.xlsx','rb'),sheet_name='SW Table',header=4,nrows=24)\n",
    "except Exception as e:\n",
    "    print(\"Ocorreu um erro ao ler o arquivo XLSX\",e)"
   ]
  },
  {
   "cell_type": "code",
   "execution_count": 42,
   "metadata": {},
   "outputs": [],
   "source": [
    "# Tratamento de valores NaN\n",
    "coeficient_table = coeficient_table.fillna(0)"
   ]
  },
  {
   "cell_type": "markdown",
   "metadata": {},
   "source": [
    "$W_{calc}=\\frac{b^2}{\\sum_{i=1}^{n}(X_i-\\overline{X})^2}\\quad para\\quad i=1,...,n\\\\\n",
    "b= \\sum_{i=1}^{\\frac{n}{2}}a_{i,n}(X_{(n-i-1)}-X_{(i)})$"
   ]
  },
  {
   "cell_type": "code",
   "execution_count": 110,
   "metadata": {},
   "outputs": [
    {
     "data": {
      "text/plain": [
       "0     7\n",
       "1     9\n",
       "2    10\n",
       "3    10\n",
       "4    10\n",
       "5    12\n",
       "6    12\n",
       "7    14\n",
       "8    16\n",
       "9    18\n",
       "Name: X_i, dtype: int32"
      ]
     },
     "execution_count": 110,
     "metadata": {},
     "output_type": "execute_result"
    }
   ],
   "source": [
    "df_aleatorias['X_i']"
   ]
  },
  {
   "cell_type": "code",
   "execution_count": 176,
   "metadata": {},
   "outputs": [],
   "source": [
    "# Calculando b\n",
    "n = 10\n",
    "n_sobre_2 = int(n/2)\n",
    "b = 0\n",
    "\n",
    "for i in range(n_sobre_2):\n",
    "    a = coeficient_table.iloc[i,n-1]\n",
    "    dif = (df_aleatorias['X_i'][n-i-1] - df_aleatorias['X_i'][i])\n",
    "    b += a*dif\n",
    "\n"
   ]
  },
  {
   "cell_type": "code",
   "execution_count": 177,
   "metadata": {},
   "outputs": [
    {
     "data": {
      "text/plain": [
       "9.797600000000001"
      ]
     },
     "execution_count": 177,
     "metadata": {},
     "output_type": "execute_result"
    }
   ],
   "source": [
    "b"
   ]
  },
  {
   "cell_type": "code",
   "execution_count": 175,
   "metadata": {},
   "outputs": [
    {
     "data": {
      "text/plain": [
       "13.6"
      ]
     },
     "execution_count": 175,
     "metadata": {},
     "output_type": "execute_result"
    }
   ],
   "source": [
    "media = amostra_aleatoria.mean()\n",
    "media"
   ]
  },
  {
   "cell_type": "code",
   "execution_count": 180,
   "metadata": {},
   "outputs": [
    {
     "data": {
      "text/plain": [
       "0.7163654161194031"
      ]
     },
     "execution_count": 180,
     "metadata": {},
     "output_type": "execute_result"
    }
   ],
   "source": [
    "numerador = np.power(b,2)\n",
    "\n",
    "denominador = sum([(df_aleatorias['X_i'][i] - media)**2 for i in range(len(df_aleatorias))])\n",
    "\n",
    "Wcalc = numerador/denominador\n",
    "\n",
    "Wcalc\n"
   ]
  },
  {
   "cell_type": "markdown",
   "metadata": {},
   "source": [
    "## Valor crítico\n",
    "n = 10 e a = 1% (0.01)\n",
    "\n",
    "Olhando na tabela,\n",
    "Wc = 0.781"
   ]
  },
  {
   "cell_type": "code",
   "execution_count": 179,
   "metadata": {},
   "outputs": [
    {
     "name": "stdout",
     "output_type": "stream",
     "text": [
      "0.716 < 0.781\n",
      "A hipótese nula é rejeitada, logo os dados não são normais\n"
     ]
    }
   ],
   "source": [
    "Wc = 0.781\n",
    "if Wcalc > Wc:\n",
    "    print(f\"{Wcalc:.3f} > {Wc:.3f}\")\n",
    "    print(\"A hipótese nula é aceita, logo os dados são normais\")\n",
    "else:\n",
    "    print(f\"{Wcalc:.3f} < {Wc:.3f}\")\n",
    "    print(\"A hipótese nula é rejeitada, logo os dados não são normais\")"
   ]
  },
  {
   "cell_type": "markdown",
   "metadata": {},
   "source": [
    "Utilizando a biblioteca Stats do Scipy"
   ]
  },
  {
   "cell_type": "code",
   "execution_count": 151,
   "metadata": {},
   "outputs": [
    {
     "data": {
      "text/plain": [
       "ShapiroResult(statistic=0.9445412158966064, pvalue=0.6045560836791992)"
      ]
     },
     "execution_count": 151,
     "metadata": {},
     "output_type": "execute_result"
    }
   ],
   "source": [
    "from scipy import stats\n",
    "\n",
    "in_order = sorted(amostra_aleatoria)\n",
    "\n",
    "res = stats.shapiro(in_order)\n",
    "res"
   ]
  },
  {
   "cell_type": "code",
   "execution_count": 152,
   "metadata": {},
   "outputs": [
    {
     "data": {
      "text/plain": [
       "[8, 11, 12, 13, 13, 13, 15, 15, 18, 18]"
      ]
     },
     "execution_count": 152,
     "metadata": {},
     "output_type": "execute_result"
    }
   ],
   "source": [
    "in_order"
   ]
  }
 ],
 "metadata": {
  "kernelspec": {
   "display_name": "base",
   "language": "python",
   "name": "python3"
  },
  "language_info": {
   "codemirror_mode": {
    "name": "ipython",
    "version": 3
   },
   "file_extension": ".py",
   "mimetype": "text/x-python",
   "name": "python",
   "nbconvert_exporter": "python",
   "pygments_lexer": "ipython3",
   "version": "3.9.12"
  }
 },
 "nbformat": 4,
 "nbformat_minor": 2
}
