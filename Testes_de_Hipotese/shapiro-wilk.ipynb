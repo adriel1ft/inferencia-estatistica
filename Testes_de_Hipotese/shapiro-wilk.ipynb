{
 "cells": [
  {
   "cell_type": "markdown",
   "metadata": {},
   "source": [
    "Teste de Shapiro-Wilk"
   ]
  },
  {
   "cell_type": "markdown",
   "metadata": {},
   "source": [
    "Importação de Bibliotecas"
   ]
  },
  {
   "cell_type": "code",
   "execution_count": 2,
   "metadata": {},
   "outputs": [
    {
     "name": "stderr",
     "output_type": "stream",
     "text": [
      "c:\\Users\\dorie\\anaconda3\\lib\\site-packages\\pandas\\core\\computation\\expressions.py:21: UserWarning: Pandas requires version '2.8.4' or newer of 'numexpr' (version '2.8.1' currently installed).\n",
      "  from pandas.core.computation.check import NUMEXPR_INSTALLED\n",
      "c:\\Users\\dorie\\anaconda3\\lib\\site-packages\\pandas\\core\\arrays\\masked.py:60: UserWarning: Pandas requires version '1.3.6' or newer of 'bottleneck' (version '1.3.4' currently installed).\n",
      "  from pandas.core import (\n",
      "c:\\Users\\dorie\\anaconda3\\lib\\site-packages\\scipy\\__init__.py:146: UserWarning: A NumPy version >=1.16.5 and <1.23.0 is required for this version of SciPy (detected version 1.26.4\n",
      "  warnings.warn(f\"A NumPy version >={np_minversion} and <{np_maxversion}\"\n"
     ]
    }
   ],
   "source": [
    "import pandas as pd\n",
    "import numpy as np\n",
    "import random\n",
    "import statistics\n",
    "import matplotlib.pyplot as plt\n",
    "import seaborn as sns"
   ]
  },
  {
   "cell_type": "markdown",
   "metadata": {},
   "source": [
    "*Escolha das amostras*\n",
    "\n",
    "Distribuição Binomial\n",
    "Distribuição Normal\n",
    "Distribuição Poisson\n",
    "Distribuição Lognormal\n",
    "Amostra aleatória (sem especificação de distribuição)"
   ]
  },
  {
   "cell_type": "code",
   "execution_count": null,
   "metadata": {},
   "outputs": [],
   "source": [
    "n,p = 10, 0.5\n",
    "#size\n",
    "np.random.binomial(n,p,size=(2,100))"
   ]
  },
  {
   "cell_type": "code",
   "execution_count": 10,
   "metadata": {},
   "outputs": [
    {
     "data": {
      "text/plain": [
       "[51, 31, 34, 98, 74, 71, 68, 92, 78, 11]"
      ]
     },
     "execution_count": 10,
     "metadata": {},
     "output_type": "execute_result"
    }
   ],
   "source": [
    "random.sample(range(1, 100), 10)"
   ]
  },
  {
   "cell_type": "code",
   "execution_count": 5,
   "metadata": {},
   "outputs": [],
   "source": [
    "# Gerar 10 amostras de uma distribuição log-normal\n",
    "mu_ln, sigma_ln = 0, 1  # Média e desvio padrão do logaritmo\n",
    "amostras_lognormal = np.random.lognormal(mu_ln, sigma_ln, size=(10, 50))\n"
   ]
  },
  {
   "cell_type": "code",
   "execution_count": 14,
   "metadata": {},
   "outputs": [
    {
     "data": {
      "text/plain": [
       "array([[3, 3, 3, 2, 2, 0, 2, 2, 1, 2, 3, 1, 1, 3, 1, 1, 1, 1, 1, 0, 1, 2,\n",
       "        1, 0, 0, 1, 1, 6, 3, 1, 2, 1, 4, 0, 3, 0, 1, 2, 2, 0, 0, 4, 1, 0,\n",
       "        2, 1, 2, 1, 0, 0, 3, 1, 4, 1, 1, 1, 1, 3, 3, 2, 0, 3, 4, 1, 0, 2,\n",
       "        0, 1, 4, 3, 0, 2, 1, 2, 1, 1, 0, 2, 1, 1, 1, 0, 1, 3, 3, 1, 0, 0,\n",
       "        0, 1, 0, 0, 4, 1, 1, 1, 2, 2, 1, 1],\n",
       "       [0, 2, 3, 2, 4, 2, 2, 2, 1, 0, 2, 1, 0, 1, 0, 3, 3, 2, 1, 1, 1, 0,\n",
       "        5, 2, 1, 0, 0, 1, 1, 2, 1, 4, 4, 0, 3, 3, 2, 1, 0, 0, 1, 1, 0, 2,\n",
       "        2, 2, 2, 4, 1, 0, 1, 4, 2, 4, 1, 4, 0, 1, 1, 2, 1, 2, 2, 5, 2, 2,\n",
       "        1, 2, 2, 2, 0, 0, 0, 0, 0, 0, 0, 1, 1, 4, 3, 3, 4, 0, 2, 2, 1, 3,\n",
       "        2, 1, 0, 3, 3, 0, 0, 0, 0, 0, 2, 1]])"
      ]
     },
     "execution_count": 14,
     "metadata": {},
     "output_type": "execute_result"
    }
   ],
   "source": [
    "np.random.poisson(1.5,size=(2,100))"
   ]
  }
 ],
 "metadata": {
  "kernelspec": {
   "display_name": "base",
   "language": "python",
   "name": "python3"
  },
  "language_info": {
   "codemirror_mode": {
    "name": "ipython",
    "version": 3
   },
   "file_extension": ".py",
   "mimetype": "text/x-python",
   "name": "python",
   "nbconvert_exporter": "python",
   "pygments_lexer": "ipython3",
   "version": "3.9.12"
  }
 },
 "nbformat": 4,
 "nbformat_minor": 2
}
