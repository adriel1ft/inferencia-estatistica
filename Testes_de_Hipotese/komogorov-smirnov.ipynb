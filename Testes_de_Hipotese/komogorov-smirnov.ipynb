{
 "cells": [
  {
   "cell_type": "code",
   "execution_count": 58,
   "metadata": {},
   "outputs": [
    {
     "name": "stderr",
     "output_type": "stream",
     "text": [
      "c:\\Users\\dorie\\anaconda3\\lib\\site-packages\\scipy\\__init__.py:146: UserWarning: A NumPy version >=1.16.5 and <1.23.0 is required for this version of SciPy (detected version 1.26.4\n",
      "  warnings.warn(f\"A NumPy version >={np_minversion} and <{np_maxversion}\"\n"
     ]
    }
   ],
   "source": [
    "import pandas as pd\n",
    "import numpy as np\n",
    "import matplotlib.pyplot as plt\n",
    "import seaborn as sns"
   ]
  },
  {
   "cell_type": "markdown",
   "metadata": {},
   "source": [
    "Passos para construção dos testes de hipóteses\n",
    "\n",
    "* Passo 1: Escolher o teste estatístico adequado, dado o intuito do pesquisador.\n",
    "\n",
    "* Passo 2: Apresentar a hipótese nula ${H_0}$ e a hipótese alternativa ${H_1}$ do teste. \n",
    "\n",
    "* Passo 3: Fixar o nível de significância α. \n",
    "\n",
    "* Passo 4: Calcular o valor observado da estatística do teste com base na amostra extraída da população.\n",
    "\n",
    "* Passo 5: Determinar a região crítica do teste em função do valor de α fixado no passo 3. "
   ]
  },
  {
   "cell_type": "code",
   "execution_count": 79,
   "metadata": {},
   "outputs": [],
   "source": [
    "df = pd.DataFrame(columns=['Notas','Frequência','Frequência Relativa','Frequência Acumulada Observada'])"
   ]
  },
  {
   "cell_type": "code",
   "execution_count": 80,
   "metadata": {},
   "outputs": [],
   "source": [
    "#Inserindo dados \n",
    "dados = [\n",
    "    [0, 1, 0.0164, 0.0164],\n",
    "    [1, 3, 0.0492, 0.0656], \n",
    "    [2, 4, 0.0656, 0.1311], \n",
    "    [3, 8, 0.1311, 0.2623], \n",
    "    [4, 24, 0.3934, 0.6557], \n",
    "    [5, 13, 0.2131, 0.8689], \n",
    "    [6, 5, 0.0820, 0.9508], \n",
    "    [7, 3, 0.0492, 1], \n",
    "    [8, 0, 0, 1], \n",
    "    [9, 0, 0, 1], \n",
    "    [10, 0, 0, 1]\n",
    "]"
   ]
  },
  {
   "cell_type": "code",
   "execution_count": 81,
   "metadata": {},
   "outputs": [],
   "source": [
    "for linha in dados:\n",
    "    df.loc[len(df)] = linha"
   ]
  },
  {
   "cell_type": "code",
   "execution_count": 82,
   "metadata": {},
   "outputs": [
    {
     "data": {
      "text/plain": [
       "Notas                             float64\n",
       "Frequência                        float64\n",
       "Frequência Relativa               float64\n",
       "Frequência Acumulada Observada    float64\n",
       "dtype: object"
      ]
     },
     "execution_count": 82,
     "metadata": {},
     "output_type": "execute_result"
    }
   ],
   "source": [
    "df.dtypes"
   ]
  },
  {
   "cell_type": "code",
   "execution_count": 83,
   "metadata": {},
   "outputs": [
    {
     "data": {
      "text/html": [
       "<div>\n",
       "<style scoped>\n",
       "    .dataframe tbody tr th:only-of-type {\n",
       "        vertical-align: middle;\n",
       "    }\n",
       "\n",
       "    .dataframe tbody tr th {\n",
       "        vertical-align: top;\n",
       "    }\n",
       "\n",
       "    .dataframe thead th {\n",
       "        text-align: right;\n",
       "    }\n",
       "</style>\n",
       "<table border=\"1\" class=\"dataframe\">\n",
       "  <thead>\n",
       "    <tr style=\"text-align: right;\">\n",
       "      <th></th>\n",
       "      <th>Notas</th>\n",
       "      <th>Frequência</th>\n",
       "      <th>Frequência Relativa</th>\n",
       "      <th>Frequência Acumulada Observada</th>\n",
       "    </tr>\n",
       "  </thead>\n",
       "  <tbody>\n",
       "    <tr>\n",
       "      <th>0</th>\n",
       "      <td>0.0</td>\n",
       "      <td>1.0</td>\n",
       "      <td>0.0164</td>\n",
       "      <td>0.0164</td>\n",
       "    </tr>\n",
       "    <tr>\n",
       "      <th>1</th>\n",
       "      <td>1.0</td>\n",
       "      <td>3.0</td>\n",
       "      <td>0.0492</td>\n",
       "      <td>0.0656</td>\n",
       "    </tr>\n",
       "    <tr>\n",
       "      <th>2</th>\n",
       "      <td>2.0</td>\n",
       "      <td>4.0</td>\n",
       "      <td>0.0656</td>\n",
       "      <td>0.1311</td>\n",
       "    </tr>\n",
       "    <tr>\n",
       "      <th>3</th>\n",
       "      <td>3.0</td>\n",
       "      <td>8.0</td>\n",
       "      <td>0.1311</td>\n",
       "      <td>0.2623</td>\n",
       "    </tr>\n",
       "    <tr>\n",
       "      <th>4</th>\n",
       "      <td>4.0</td>\n",
       "      <td>24.0</td>\n",
       "      <td>0.3934</td>\n",
       "      <td>0.6557</td>\n",
       "    </tr>\n",
       "    <tr>\n",
       "      <th>5</th>\n",
       "      <td>5.0</td>\n",
       "      <td>13.0</td>\n",
       "      <td>0.2131</td>\n",
       "      <td>0.8689</td>\n",
       "    </tr>\n",
       "    <tr>\n",
       "      <th>6</th>\n",
       "      <td>6.0</td>\n",
       "      <td>5.0</td>\n",
       "      <td>0.0820</td>\n",
       "      <td>0.9508</td>\n",
       "    </tr>\n",
       "    <tr>\n",
       "      <th>7</th>\n",
       "      <td>7.0</td>\n",
       "      <td>3.0</td>\n",
       "      <td>0.0492</td>\n",
       "      <td>1.0000</td>\n",
       "    </tr>\n",
       "    <tr>\n",
       "      <th>8</th>\n",
       "      <td>8.0</td>\n",
       "      <td>0.0</td>\n",
       "      <td>0.0000</td>\n",
       "      <td>1.0000</td>\n",
       "    </tr>\n",
       "    <tr>\n",
       "      <th>9</th>\n",
       "      <td>9.0</td>\n",
       "      <td>0.0</td>\n",
       "      <td>0.0000</td>\n",
       "      <td>1.0000</td>\n",
       "    </tr>\n",
       "    <tr>\n",
       "      <th>10</th>\n",
       "      <td>10.0</td>\n",
       "      <td>0.0</td>\n",
       "      <td>0.0000</td>\n",
       "      <td>1.0000</td>\n",
       "    </tr>\n",
       "  </tbody>\n",
       "</table>\n",
       "</div>"
      ],
      "text/plain": [
       "    Notas  Frequência  Frequência Relativa  Frequência Acumulada Observada\n",
       "0     0.0         1.0               0.0164                          0.0164\n",
       "1     1.0         3.0               0.0492                          0.0656\n",
       "2     2.0         4.0               0.0656                          0.1311\n",
       "3     3.0         8.0               0.1311                          0.2623\n",
       "4     4.0        24.0               0.3934                          0.6557\n",
       "5     5.0        13.0               0.2131                          0.8689\n",
       "6     6.0         5.0               0.0820                          0.9508\n",
       "7     7.0         3.0               0.0492                          1.0000\n",
       "8     8.0         0.0               0.0000                          1.0000\n",
       "9     9.0         0.0               0.0000                          1.0000\n",
       "10   10.0         0.0               0.0000                          1.0000"
      ]
     },
     "execution_count": 83,
     "metadata": {},
     "output_type": "execute_result"
    }
   ],
   "source": [
    "df"
   ]
  },
  {
   "cell_type": "code",
   "execution_count": 84,
   "metadata": {},
   "outputs": [],
   "source": [
    "notas = df['Notas'].to_numpy()\n",
    "fao = df['Frequência Acumulada Observada'].to_numpy()"
   ]
  },
  {
   "cell_type": "code",
   "execution_count": 94,
   "metadata": {},
   "outputs": [
    {
     "name": "stdout",
     "output_type": "stream",
     "text": [
      "1.0\n",
      "3.0\n",
      "4.0\n",
      "8.0\n",
      "24.0\n",
      "13.0\n",
      "5.0\n",
      "3.0\n",
      "0.0\n",
      "0.0\n",
      "0.0\n"
     ]
    }
   ],
   "source": [
    "for f in df['Frequência']:\n",
    "    print(f)"
   ]
  },
  {
   "cell_type": "code",
   "execution_count": 91,
   "metadata": {},
   "outputs": [
    {
     "data": {
      "image/png": "[encoded data removed]",
      "text/plain": [
       "<Figure size 432x504 with 1 Axes>"
      ]
     },
     "metadata": {
      "needs_background": "light"
     },
     "output_type": "display_data"
    }
   ],
   "source": [
    "plt.figure(figsize=(6,7))\n",
    "plt.scatter(notas,fao,label='Pontos')\n",
    "plt.plot(notas,fao,linestyle='-',label='Pontos')\n",
    "plt.xlabel('Notas')\n",
    "plt.ylabel('Frequência Acumulada Observada')\n",
    "plt.show()"
   ]
  },
  {
   "cell_type": "markdown",
   "metadata": {},
   "source": [
    "O teste de K-S assume as seguintes hipóteses:\n",
    "\n",
    "bla bla\n",
    "$\n",
    "{H_0}: F_{obs}(X) = F_{esp}(X)\n",
    "$\n",
    "\n",
    "contra a alternativa de que:\n",
    "\n",
    "$\n",
    "{H_0}: F_{obs}(X) \\neq F_{esp}(X)\n",
    "$\n"
   ]
  },
  {
   "cell_type": "markdown",
   "metadata": {},
   "source": []
  }
 ],
 "metadata": {
  "kernelspec": {
   "display_name": "base",
   "language": "python",
   "name": "python3"
  },
  "language_info": {
   "codemirror_mode": {
    "name": "ipython",
    "version": 3
   },
   "file_extension": ".py",
   "mimetype": "text/x-python",
   "name": "python",
   "nbconvert_exporter": "python",
   "pygments_lexer": "ipython3",
   "version": "3.9.12"
  }
 },
 "nbformat": 4,
 "nbformat_minor": 2
}
